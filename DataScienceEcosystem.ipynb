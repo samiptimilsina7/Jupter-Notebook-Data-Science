{
 "cells": [
  {
   "cell_type": "markdown",
   "id": "74f7ab58",
   "metadata": {},
   "source": [
    "Exercise 2: Create markdown cell with title of the notebook"
   ]
  },
  {
   "cell_type": "markdown",
   "id": "fe1e2119",
   "metadata": {},
   "source": [
    "# Data Science Tools and Ecosystem"
   ]
  },
  {
   "cell_type": "markdown",
   "id": "7ec2b3a7",
   "metadata": {},
   "source": [
    "Exercise 3 - Create a markdown cell for an introduction"
   ]
  },
  {
   "cell_type": "markdown",
   "id": "c8fd7076",
   "metadata": {},
   "source": [
    "In this notebook, Data Science Tools and Ecosystem are summarized."
   ]
  },
  {
   "cell_type": "markdown",
   "id": "20ccfe5d",
   "metadata": {},
   "source": [
    "Exercise 10 - Insert a markdown cell to list Objectives"
   ]
  },
  {
   "cell_type": "markdown",
   "id": "0e996de5",
   "metadata": {},
   "source": [
    "__ Objectives: __\n",
    "* List popular languages for Data Science\n",
    "* Create a Jupyter Notebook with markdown and code cells\n",
    "* Demonstrate proficiency in Data Science toolkit knowledge"
   ]
  },
  {
   "cell_type": "markdown",
   "id": "0e98c8b4",
   "metadata": {},
   "source": [
    "Exercise 4 - Create a markdown cell to list data science languages"
   ]
  },
  {
   "cell_type": "markdown",
   "id": "314c8d6b",
   "metadata": {},
   "source": [
    "Some of the popular languages that Data Scientists use are:\n",
    "1. Python\n",
    "1. Java\n",
    "1. Javascript\n",
    "1. Scala"
   ]
  },
  {
   "cell_type": "markdown",
   "id": "cfb1e6d8",
   "metadata": {},
   "source": [
    "Exercise 5 - Create a markdown cell to list data science libraries"
   ]
  },
  {
   "cell_type": "markdown",
   "id": "0a865683",
   "metadata": {},
   "source": [
    "Some of the commonly used libraries used by Data Scientists include:\n",
    "1. Tensorflow\n",
    "1. NumPy\n",
    "1. Keras"
   ]
  },
  {
   "cell_type": "markdown",
   "id": "95539ee4",
   "metadata": {},
   "source": [
    "Exercise 6 - Create a markdown cell with a table of Data Science tools"
   ]
  },
  {
   "cell_type": "markdown",
   "id": "278e34db",
   "metadata": {},
   "source": [
    "| Data Science Tools |\n",
    "| :---: |\n",
    "| Pandas |\n",
    "| Matplotlib |\n",
    "| Scikit-learn |"
   ]
  },
  {
   "cell_type": "markdown",
   "id": "c6b9f2f3",
   "metadata": {},
   "source": [
    "Exercise 7 - Create a markdown cell introducing arithmetic expression examples"
   ]
  },
  {
   "cell_type": "markdown",
   "id": "966771f2",
   "metadata": {},
   "source": [
    "### Below are a few examples of evaluating arithmetic expressions in Python"
   ]
  },
  {
   "cell_type": "markdown",
   "id": "fffe85d0",
   "metadata": {},
   "source": [
    "Exercise 8 - Create a code cell to multiply and add numbers"
   ]
  },
  {
   "cell_type": "code",
   "execution_count": 4,
   "id": "c17b830e",
   "metadata": {},
   "outputs": [],
   "source": [
    "# This a simple arithmetic expression to mutiply then add integers"
   ]
  },
  {
   "cell_type": "code",
   "execution_count": 5,
   "id": "da601999",
   "metadata": {},
   "outputs": [
    {
     "data": {
      "text/plain": [
       "17"
      ]
     },
     "execution_count": 5,
     "metadata": {},
     "output_type": "execute_result"
    }
   ],
   "source": [
    "(3*4)+5"
   ]
  },
  {
   "cell_type": "markdown",
   "id": "7e264b40",
   "metadata": {},
   "source": [
    "Exercise 9 - Create a code cell to convert minutes to hours"
   ]
  },
  {
   "cell_type": "code",
   "execution_count": 6,
   "id": "7b36f728",
   "metadata": {},
   "outputs": [],
   "source": [
    "# This will convert 200 minutes to hours by diving by 60"
   ]
  },
  {
   "cell_type": "code",
   "execution_count": 13,
   "id": "819878f7",
   "metadata": {},
   "outputs": [
    {
     "data": {
      "text/plain": [
       "3"
      ]
     },
     "execution_count": 13,
     "metadata": {},
     "output_type": "execute_result"
    }
   ],
   "source": [
    "int(200/60)"
   ]
  },
  {
   "cell_type": "markdown",
   "id": "730d2a52",
   "metadata": {},
   "source": [
    "Exercise 11 - Create a markdown cell to indicate the Author's name"
   ]
  },
  {
   "cell_type": "markdown",
   "id": "8c83da56",
   "metadata": {},
   "source": [
    "## Author:\n",
    "Samip Timilsina"
   ]
  },
  {
   "cell_type": "code",
   "execution_count": null,
   "id": "7a5ba41b",
   "metadata": {},
   "outputs": [],
   "source": []
  }
 ],
 "metadata": {
  "kernelspec": {
   "display_name": "Python 3 (ipykernel)",
   "language": "python",
   "name": "python3"
  },
  "language_info": {
   "codemirror_mode": {
    "name": "ipython",
    "version": 3
   },
   "file_extension": ".py",
   "mimetype": "text/x-python",
   "name": "python",
   "nbconvert_exporter": "python",
   "pygments_lexer": "ipython3",
   "version": "3.11.5"
  }
 },
 "nbformat": 4,
 "nbformat_minor": 5
}
